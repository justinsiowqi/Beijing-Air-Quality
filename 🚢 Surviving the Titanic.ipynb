{
 "cells": [
  {
   "cell_type": "markdown",
   "id": "235c0116",
   "metadata": {},
   "source": [
    "# 🚢 Surviving the Titanic"
   ]
  },
  {
   "cell_type": "markdown",
   "id": "21a578ee",
   "metadata": {},
   "source": [
    "## Predicting who survives the Titanic shipwreck"
   ]
  },
  {
   "cell_type": "markdown",
   "id": "47d68b8a",
   "metadata": {},
   "source": [
    "<div align=\"center\">\n",
    "    <img src=\"https://www.en-vols.com/wp-content/uploads/afmm/2022/12/titanic2.jpg\" alt=\"Titanic Movie\" style=\"width: 600px;\" align=\"center\"/>\n",
    "<div>\n",
    "<div align=\"center\">\n",
    "  © Titanic (1997 film)\n",
    "</div>"
   ]
  },
  {
   "cell_type": "markdown",
   "id": "c13609f8",
   "metadata": {},
   "source": [
    "Can you really call yourself a Kaggler if you've never attempted the **legendary** Titanic dataset?\n",
    "\n",
    "This notebook will bring you up to speed on data visualization, pipelines and **nested cross validation**. In particular, we'll focus on creating **custom transformers** and compiling them into complex pipelines.\n",
    "\n",
    "Let's dive in..."
   ]
  },
  {
   "cell_type": "markdown",
   "id": "268a6745",
   "metadata": {},
   "source": [
    "---"
   ]
  },
  {
   "cell_type": "markdown",
   "id": "08f4b6ce",
   "metadata": {},
   "source": [
    "### <font color='000000'>Table of contents<font><a class='anchor' id='top'></a>\n",
    "\n",
    "1. [Introduction](#section-one)  \n",
    "    \n",
    "2. [Get Data](#section-two)\n",
    "    \n",
    "3. [Discover & Visualize Data](#section-three)\n",
    "    \n",
    "4. [Prepare Data](#section-four)  \n",
    " 4.1 [Datatype Changer](#section-four-one)  \n",
    " 4.2 [Column Deleter](#section-four-two)  \n",
    " 4.3 [Column Combiner](#section-four-three)  \n",
    " 4.4 [Title Extractor](#section-four-four)  \n",
    " 4.5 [Age Imputer](#section-four-five)  \n",
    " 4.6 [Pipeline](#section-four-six)  \n",
    "    \n",
    "5. [Select & Train Model](#section-five)\n",
    "    \n",
    "6. [Test Model](#section-six) \n",
    "    \n",
    "7. [Conclusion](#section-seven)"
   ]
  },
  {
   "cell_type": "markdown",
   "id": "c85c4656",
   "metadata": {},
   "source": [
    "---"
   ]
  },
  {
   "cell_type": "markdown",
   "id": "495a3115",
   "metadata": {},
   "source": [
    "<a class=\"anchor\" id=\"section-one\"></a>\n",
    "## 1. Introduction\n",
    "\n",
    "This notebook begins by **exploring** the datasets, as well as the relationships between the likelihood of survival and a passenger's age, class, etc.\n",
    "\n",
    "Next, we'll **preprocess** the data by creating various custom transformers and assembling them together via a pipeline.\n",
    "\n",
    "We'll proceed by **training** and comparing five different classifier models and their hyperparameters. Finally, we'll select the best model and use it to **predict** whether a passenger survives.\n"
   ]
  },
  {
   "cell_type": "markdown",
   "id": "6ea8dbc5",
   "metadata": {},
   "source": [
    "---"
   ]
  },
  {
   "cell_type": "markdown",
   "id": "bcecd188",
   "metadata": {},
   "source": [
    "<a class=\"anchor\" id=\"section-two\"></a>\n",
    "## 2. Get Data\n",
    "\n",
    "* Take a quick look at the dataset.\n",
    "* Observe the statistical data, as well as the number of missing values."
   ]
  },
  {
   "cell_type": "code",
   "execution_count": 1,
   "id": "758c8d09",
   "metadata": {},
   "outputs": [],
   "source": [
    "# Import libraries\n",
    "\n",
    "import os\n",
    "import pandas as pd\n",
    "import numpy as np\n",
    "import seaborn as sns\n",
    "from matplotlib import pyplot as plt"
   ]
  },
  {
   "cell_type": "code",
   "execution_count": 2,
   "id": "2a068402",
   "metadata": {},
   "outputs": [],
   "source": [
    "# Read the CSV file\n",
    "\n",
    "file1 = 'train.csv'\n",
    "file2 = 'test.csv'\n",
    "\n",
    "train_data = pd.read_csv(file1)\n",
    "test_data = pd.read_csv(file2)"
   ]
  },
  {
   "cell_type": "code",
   "execution_count": 3,
   "id": "10428890",
   "metadata": {},
   "outputs": [
    {
     "data": {
      "text/html": [
       "<div>\n",
       "<style scoped>\n",
       "    .dataframe tbody tr th:only-of-type {\n",
       "        vertical-align: middle;\n",
       "    }\n",
       "\n",
       "    .dataframe tbody tr th {\n",
       "        vertical-align: top;\n",
       "    }\n",
       "\n",
       "    .dataframe thead th {\n",
       "        text-align: right;\n",
       "    }\n",
       "</style>\n",
       "<table border=\"1\" class=\"dataframe\">\n",
       "  <thead>\n",
       "    <tr style=\"text-align: right;\">\n",
       "      <th></th>\n",
       "      <th>PassengerId</th>\n",
       "      <th>Survived</th>\n",
       "      <th>Pclass</th>\n",
       "      <th>Name</th>\n",
       "      <th>Sex</th>\n",
       "      <th>Age</th>\n",
       "      <th>SibSp</th>\n",
       "      <th>Parch</th>\n",
       "      <th>Ticket</th>\n",
       "      <th>Fare</th>\n",
       "      <th>Cabin</th>\n",
       "      <th>Embarked</th>\n",
       "    </tr>\n",
       "  </thead>\n",
       "  <tbody>\n",
       "    <tr>\n",
       "      <th>0</th>\n",
       "      <td>1</td>\n",
       "      <td>0</td>\n",
       "      <td>3</td>\n",
       "      <td>Braund, Mr. Owen Harris</td>\n",
       "      <td>male</td>\n",
       "      <td>22.0</td>\n",
       "      <td>1</td>\n",
       "      <td>0</td>\n",
       "      <td>A/5 21171</td>\n",
       "      <td>7.2500</td>\n",
       "      <td>NaN</td>\n",
       "      <td>S</td>\n",
       "    </tr>\n",
       "    <tr>\n",
       "      <th>1</th>\n",
       "      <td>2</td>\n",
       "      <td>1</td>\n",
       "      <td>1</td>\n",
       "      <td>Cumings, Mrs. John Bradley (Florence Briggs Th...</td>\n",
       "      <td>female</td>\n",
       "      <td>38.0</td>\n",
       "      <td>1</td>\n",
       "      <td>0</td>\n",
       "      <td>PC 17599</td>\n",
       "      <td>71.2833</td>\n",
       "      <td>C85</td>\n",
       "      <td>C</td>\n",
       "    </tr>\n",
       "    <tr>\n",
       "      <th>2</th>\n",
       "      <td>3</td>\n",
       "      <td>1</td>\n",
       "      <td>3</td>\n",
       "      <td>Heikkinen, Miss. Laina</td>\n",
       "      <td>female</td>\n",
       "      <td>26.0</td>\n",
       "      <td>0</td>\n",
       "      <td>0</td>\n",
       "      <td>STON/O2. 3101282</td>\n",
       "      <td>7.9250</td>\n",
       "      <td>NaN</td>\n",
       "      <td>S</td>\n",
       "    </tr>\n",
       "    <tr>\n",
       "      <th>3</th>\n",
       "      <td>4</td>\n",
       "      <td>1</td>\n",
       "      <td>1</td>\n",
       "      <td>Futrelle, Mrs. Jacques Heath (Lily May Peel)</td>\n",
       "      <td>female</td>\n",
       "      <td>35.0</td>\n",
       "      <td>1</td>\n",
       "      <td>0</td>\n",
       "      <td>113803</td>\n",
       "      <td>53.1000</td>\n",
       "      <td>C123</td>\n",
       "      <td>S</td>\n",
       "    </tr>\n",
       "    <tr>\n",
       "      <th>4</th>\n",
       "      <td>5</td>\n",
       "      <td>0</td>\n",
       "      <td>3</td>\n",
       "      <td>Allen, Mr. William Henry</td>\n",
       "      <td>male</td>\n",
       "      <td>35.0</td>\n",
       "      <td>0</td>\n",
       "      <td>0</td>\n",
       "      <td>373450</td>\n",
       "      <td>8.0500</td>\n",
       "      <td>NaN</td>\n",
       "      <td>S</td>\n",
       "    </tr>\n",
       "    <tr>\n",
       "      <th>5</th>\n",
       "      <td>6</td>\n",
       "      <td>0</td>\n",
       "      <td>3</td>\n",
       "      <td>Moran, Mr. James</td>\n",
       "      <td>male</td>\n",
       "      <td>NaN</td>\n",
       "      <td>0</td>\n",
       "      <td>0</td>\n",
       "      <td>330877</td>\n",
       "      <td>8.4583</td>\n",
       "      <td>NaN</td>\n",
       "      <td>Q</td>\n",
       "    </tr>\n",
       "    <tr>\n",
       "      <th>6</th>\n",
       "      <td>7</td>\n",
       "      <td>0</td>\n",
       "      <td>1</td>\n",
       "      <td>McCarthy, Mr. Timothy J</td>\n",
       "      <td>male</td>\n",
       "      <td>54.0</td>\n",
       "      <td>0</td>\n",
       "      <td>0</td>\n",
       "      <td>17463</td>\n",
       "      <td>51.8625</td>\n",
       "      <td>E46</td>\n",
       "      <td>S</td>\n",
       "    </tr>\n",
       "    <tr>\n",
       "      <th>7</th>\n",
       "      <td>8</td>\n",
       "      <td>0</td>\n",
       "      <td>3</td>\n",
       "      <td>Palsson, Master. Gosta Leonard</td>\n",
       "      <td>male</td>\n",
       "      <td>2.0</td>\n",
       "      <td>3</td>\n",
       "      <td>1</td>\n",
       "      <td>349909</td>\n",
       "      <td>21.0750</td>\n",
       "      <td>NaN</td>\n",
       "      <td>S</td>\n",
       "    </tr>\n",
       "    <tr>\n",
       "      <th>8</th>\n",
       "      <td>9</td>\n",
       "      <td>1</td>\n",
       "      <td>3</td>\n",
       "      <td>Johnson, Mrs. Oscar W (Elisabeth Vilhelmina Berg)</td>\n",
       "      <td>female</td>\n",
       "      <td>27.0</td>\n",
       "      <td>0</td>\n",
       "      <td>2</td>\n",
       "      <td>347742</td>\n",
       "      <td>11.1333</td>\n",
       "      <td>NaN</td>\n",
       "      <td>S</td>\n",
       "    </tr>\n",
       "    <tr>\n",
       "      <th>9</th>\n",
       "      <td>10</td>\n",
       "      <td>1</td>\n",
       "      <td>2</td>\n",
       "      <td>Nasser, Mrs. Nicholas (Adele Achem)</td>\n",
       "      <td>female</td>\n",
       "      <td>14.0</td>\n",
       "      <td>1</td>\n",
       "      <td>0</td>\n",
       "      <td>237736</td>\n",
       "      <td>30.0708</td>\n",
       "      <td>NaN</td>\n",
       "      <td>C</td>\n",
       "    </tr>\n",
       "  </tbody>\n",
       "</table>\n",
       "</div>"
      ],
      "text/plain": [
       "   PassengerId  Survived  Pclass  \\\n",
       "0            1         0       3   \n",
       "1            2         1       1   \n",
       "2            3         1       3   \n",
       "3            4         1       1   \n",
       "4            5         0       3   \n",
       "5            6         0       3   \n",
       "6            7         0       1   \n",
       "7            8         0       3   \n",
       "8            9         1       3   \n",
       "9           10         1       2   \n",
       "\n",
       "                                                Name     Sex   Age  SibSp  \\\n",
       "0                            Braund, Mr. Owen Harris    male  22.0      1   \n",
       "1  Cumings, Mrs. John Bradley (Florence Briggs Th...  female  38.0      1   \n",
       "2                             Heikkinen, Miss. Laina  female  26.0      0   \n",
       "3       Futrelle, Mrs. Jacques Heath (Lily May Peel)  female  35.0      1   \n",
       "4                           Allen, Mr. William Henry    male  35.0      0   \n",
       "5                                   Moran, Mr. James    male   NaN      0   \n",
       "6                            McCarthy, Mr. Timothy J    male  54.0      0   \n",
       "7                     Palsson, Master. Gosta Leonard    male   2.0      3   \n",
       "8  Johnson, Mrs. Oscar W (Elisabeth Vilhelmina Berg)  female  27.0      0   \n",
       "9                Nasser, Mrs. Nicholas (Adele Achem)  female  14.0      1   \n",
       "\n",
       "   Parch            Ticket     Fare Cabin Embarked  \n",
       "0      0         A/5 21171   7.2500   NaN        S  \n",
       "1      0          PC 17599  71.2833   C85        C  \n",
       "2      0  STON/O2. 3101282   7.9250   NaN        S  \n",
       "3      0            113803  53.1000  C123        S  \n",
       "4      0            373450   8.0500   NaN        S  \n",
       "5      0            330877   8.4583   NaN        Q  \n",
       "6      0             17463  51.8625   E46        S  \n",
       "7      1            349909  21.0750   NaN        S  \n",
       "8      2            347742  11.1333   NaN        S  \n",
       "9      0            237736  30.0708   NaN        C  "
      ]
     },
     "execution_count": 3,
     "metadata": {},
     "output_type": "execute_result"
    }
   ],
   "source": [
    "# Grab the first 10 rows in dataset\n",
    "\n",
    "train_data.head(10)"
   ]
  },
  {
   "cell_type": "code",
   "execution_count": 4,
   "id": "c995c39b",
   "metadata": {},
   "outputs": [
    {
     "name": "stdout",
     "output_type": "stream",
     "text": [
      "<class 'pandas.core.frame.DataFrame'>\n",
      "RangeIndex: 891 entries, 0 to 890\n",
      "Data columns (total 12 columns):\n",
      " #   Column       Non-Null Count  Dtype  \n",
      "---  ------       --------------  -----  \n",
      " 0   PassengerId  891 non-null    int64  \n",
      " 1   Survived     891 non-null    int64  \n",
      " 2   Pclass       891 non-null    int64  \n",
      " 3   Name         891 non-null    object \n",
      " 4   Sex          891 non-null    object \n",
      " 5   Age          714 non-null    float64\n",
      " 6   SibSp        891 non-null    int64  \n",
      " 7   Parch        891 non-null    int64  \n",
      " 8   Ticket       891 non-null    object \n",
      " 9   Fare         891 non-null    float64\n",
      " 10  Cabin        204 non-null    object \n",
      " 11  Embarked     889 non-null    object \n",
      "dtypes: float64(2), int64(5), object(5)\n",
      "memory usage: 83.7+ KB\n"
     ]
    }
   ],
   "source": [
    "# Look at dtypes and number of NaN values in the training set\n",
    "\n",
    "train_data.info()"
   ]
  },
  {
   "cell_type": "code",
   "execution_count": 5,
   "id": "2999e287",
   "metadata": {},
   "outputs": [
    {
     "name": "stdout",
     "output_type": "stream",
     "text": [
      "<class 'pandas.core.frame.DataFrame'>\n",
      "RangeIndex: 418 entries, 0 to 417\n",
      "Data columns (total 11 columns):\n",
      " #   Column       Non-Null Count  Dtype  \n",
      "---  ------       --------------  -----  \n",
      " 0   PassengerId  418 non-null    int64  \n",
      " 1   Pclass       418 non-null    int64  \n",
      " 2   Name         418 non-null    object \n",
      " 3   Sex          418 non-null    object \n",
      " 4   Age          332 non-null    float64\n",
      " 5   SibSp        418 non-null    int64  \n",
      " 6   Parch        418 non-null    int64  \n",
      " 7   Ticket       418 non-null    object \n",
      " 8   Fare         417 non-null    float64\n",
      " 9   Cabin        91 non-null     object \n",
      " 10  Embarked     418 non-null    object \n",
      "dtypes: float64(2), int64(4), object(5)\n",
      "memory usage: 36.0+ KB\n"
     ]
    }
   ],
   "source": [
    "# Look at dtypes and number of NaN values in the test set\n",
    "\n",
    "test_data.info()"
   ]
  },
  {
   "cell_type": "code",
   "execution_count": 6,
   "id": "c1b8f875",
   "metadata": {},
   "outputs": [
    {
     "data": {
      "text/html": [
       "<div>\n",
       "<style scoped>\n",
       "    .dataframe tbody tr th:only-of-type {\n",
       "        vertical-align: middle;\n",
       "    }\n",
       "\n",
       "    .dataframe tbody tr th {\n",
       "        vertical-align: top;\n",
       "    }\n",
       "\n",
       "    .dataframe thead th {\n",
       "        text-align: right;\n",
       "    }\n",
       "</style>\n",
       "<table border=\"1\" class=\"dataframe\">\n",
       "  <thead>\n",
       "    <tr style=\"text-align: right;\">\n",
       "      <th></th>\n",
       "      <th>PassengerId</th>\n",
       "      <th>Survived</th>\n",
       "      <th>Pclass</th>\n",
       "      <th>Age</th>\n",
       "      <th>SibSp</th>\n",
       "      <th>Parch</th>\n",
       "      <th>Fare</th>\n",
       "    </tr>\n",
       "  </thead>\n",
       "  <tbody>\n",
       "    <tr>\n",
       "      <th>count</th>\n",
       "      <td>891.000000</td>\n",
       "      <td>891.000000</td>\n",
       "      <td>891.000000</td>\n",
       "      <td>714.000000</td>\n",
       "      <td>891.000000</td>\n",
       "      <td>891.000000</td>\n",
       "      <td>891.000000</td>\n",
       "    </tr>\n",
       "    <tr>\n",
       "      <th>mean</th>\n",
       "      <td>446.000000</td>\n",
       "      <td>0.383838</td>\n",
       "      <td>2.308642</td>\n",
       "      <td>29.699118</td>\n",
       "      <td>0.523008</td>\n",
       "      <td>0.381594</td>\n",
       "      <td>32.204208</td>\n",
       "    </tr>\n",
       "    <tr>\n",
       "      <th>std</th>\n",
       "      <td>257.353842</td>\n",
       "      <td>0.486592</td>\n",
       "      <td>0.836071</td>\n",
       "      <td>14.526497</td>\n",
       "      <td>1.102743</td>\n",
       "      <td>0.806057</td>\n",
       "      <td>49.693429</td>\n",
       "    </tr>\n",
       "    <tr>\n",
       "      <th>min</th>\n",
       "      <td>1.000000</td>\n",
       "      <td>0.000000</td>\n",
       "      <td>1.000000</td>\n",
       "      <td>0.420000</td>\n",
       "      <td>0.000000</td>\n",
       "      <td>0.000000</td>\n",
       "      <td>0.000000</td>\n",
       "    </tr>\n",
       "    <tr>\n",
       "      <th>25%</th>\n",
       "      <td>223.500000</td>\n",
       "      <td>0.000000</td>\n",
       "      <td>2.000000</td>\n",
       "      <td>20.125000</td>\n",
       "      <td>0.000000</td>\n",
       "      <td>0.000000</td>\n",
       "      <td>7.910400</td>\n",
       "    </tr>\n",
       "    <tr>\n",
       "      <th>50%</th>\n",
       "      <td>446.000000</td>\n",
       "      <td>0.000000</td>\n",
       "      <td>3.000000</td>\n",
       "      <td>28.000000</td>\n",
       "      <td>0.000000</td>\n",
       "      <td>0.000000</td>\n",
       "      <td>14.454200</td>\n",
       "    </tr>\n",
       "    <tr>\n",
       "      <th>75%</th>\n",
       "      <td>668.500000</td>\n",
       "      <td>1.000000</td>\n",
       "      <td>3.000000</td>\n",
       "      <td>38.000000</td>\n",
       "      <td>1.000000</td>\n",
       "      <td>0.000000</td>\n",
       "      <td>31.000000</td>\n",
       "    </tr>\n",
       "    <tr>\n",
       "      <th>max</th>\n",
       "      <td>891.000000</td>\n",
       "      <td>1.000000</td>\n",
       "      <td>3.000000</td>\n",
       "      <td>80.000000</td>\n",
       "      <td>8.000000</td>\n",
       "      <td>6.000000</td>\n",
       "      <td>512.329200</td>\n",
       "    </tr>\n",
       "  </tbody>\n",
       "</table>\n",
       "</div>"
      ],
      "text/plain": [
       "       PassengerId    Survived      Pclass         Age       SibSp  \\\n",
       "count   891.000000  891.000000  891.000000  714.000000  891.000000   \n",
       "mean    446.000000    0.383838    2.308642   29.699118    0.523008   \n",
       "std     257.353842    0.486592    0.836071   14.526497    1.102743   \n",
       "min       1.000000    0.000000    1.000000    0.420000    0.000000   \n",
       "25%     223.500000    0.000000    2.000000   20.125000    0.000000   \n",
       "50%     446.000000    0.000000    3.000000   28.000000    0.000000   \n",
       "75%     668.500000    1.000000    3.000000   38.000000    1.000000   \n",
       "max     891.000000    1.000000    3.000000   80.000000    8.000000   \n",
       "\n",
       "            Parch        Fare  \n",
       "count  891.000000  891.000000  \n",
       "mean     0.381594   32.204208  \n",
       "std      0.806057   49.693429  \n",
       "min      0.000000    0.000000  \n",
       "25%      0.000000    7.910400  \n",
       "50%      0.000000   14.454200  \n",
       "75%      0.000000   31.000000  \n",
       "max      6.000000  512.329200  "
      ]
     },
     "execution_count": 6,
     "metadata": {},
     "output_type": "execute_result"
    }
   ],
   "source": [
    "# Get a statistical summary of numerical columns\n",
    "\n",
    "train_data.describe()"
   ]
  },
  {
   "cell_type": "code",
   "execution_count": 7,
   "id": "ab15077a",
   "metadata": {},
   "outputs": [],
   "source": [
    "# Set the X and y variables\n",
    "\n",
    "X_train = train_data[train_data.columns[~train_data.columns.isin(['Survived'])]].copy()\n",
    "\n",
    "y_train = train_data['Survived'].copy()"
   ]
  },
  {
   "cell_type": "markdown",
   "id": "55839af1",
   "metadata": {},
   "source": [
    "### Observations:\n",
    "\n",
    "* Missing values (training set): Age, Cabin, Embarked\n",
    "* Missing values (test set): Age, Fare, Cabin\n",
    "* Percentage of passengers who survived: 38.38%\n",
    "* Passenger class: majority are either second or third class\n",
    "* Passenger age: average is <30yrs, oldest is 80yrs and youngest is <1yr\n",
    "* Passenger's family: 52.30% with sibling/spouse and 38.16% with parents/children"
   ]
  },
  {
   "cell_type": "markdown",
   "id": "7a49fef5",
   "metadata": {},
   "source": [
    "---"
   ]
  },
  {
   "cell_type": "markdown",
   "id": "aa38e00f",
   "metadata": {},
   "source": [
    "<a class=\"anchor\" id=\"section-three\"></a>\n",
    "## 3. Discover & Visualize Data\n",
    "\n",
    "* Plot the distribution of each feature according to the likelihood of survival.\n",
    "* Observe the correlation between features."
   ]
  },
  {
   "cell_type": "code",
   "execution_count": 8,
   "id": "5f0d9cd7",
   "metadata": {},
   "outputs": [],
   "source": [
    "# Create a copy of the dataframe\n",
    "\n",
    "train_data_copy = train_data.copy()"
   ]
  },
  {
   "cell_type": "code",
   "execution_count": 9,
   "id": "47fbc123",
   "metadata": {},
   "outputs": [
    {
     "data": {
      "text/plain": [
       "0    549\n",
       "1    342\n",
       "Name: Survived, dtype: int64"
      ]
     },
     "execution_count": 9,
     "metadata": {},
     "output_type": "execute_result"
    }
   ],
   "source": [
    "# Take a quick look at the Survived column\n",
    "\n",
    "train_data_copy['Survived'].value_counts()"
   ]
  },
  {
   "cell_type": "code",
   "execution_count": 10,
   "id": "71b80fbc",
   "metadata": {
    "scrolled": true
   },
   "outputs": [
    {
     "data": {
      "text/plain": [
       "3    491\n",
       "1    216\n",
       "2    184\n",
       "Name: Pclass, dtype: int64"
      ]
     },
     "execution_count": 10,
     "metadata": {},
     "output_type": "execute_result"
    }
   ],
   "source": [
    "# Take a quick look at the Pclass column\n",
    "\n",
    "train_data_copy['Pclass'].value_counts()"
   ]
  },
  {
   "cell_type": "code",
   "execution_count": 11,
   "id": "0d9557a7",
   "metadata": {},
   "outputs": [
    {
     "data": {
      "text/plain": [
       "<seaborn.axisgrid.FacetGrid at 0x107814040>"
      ]
     },
     "execution_count": 11,
     "metadata": {},
     "output_type": "execute_result"
    },
    {
     "data": {
      "image/png": "[encoded data removed]",
      "text/plain": [
       "<Figure size 572.111x500 with 1 Axes>"
      ]
     },
     "metadata": {},
     "output_type": "display_data"
    }
   ],
   "source": [
    "# Plot the likelihood of survival according to passenger class\n",
    "\n",
    "sns.catplot(x = 'Pclass', hue = 'Survived', kind = 'count', data = train_data_copy)"
   ]
  },
  {
   "cell_type": "code",
   "execution_count": 12,
   "id": "270b9124",
   "metadata": {},
   "outputs": [
    {
     "data": {
      "text/plain": [
       "male      577\n",
       "female    314\n",
       "Name: Sex, dtype: int64"
      ]
     },
     "execution_count": 12,
     "metadata": {},
     "output_type": "execute_result"
    }
   ],
   "source": [
    "# Take a quick look at the Sex column\n",
    "\n",
    "train_data_copy['Sex'].value_counts()"
   ]
  },
  {
   "cell_type": "code",
   "execution_count": 13,
   "id": "91330c92",
   "metadata": {},
   "outputs": [
    {
     "data": {
      "text/plain": [
       "<seaborn.axisgrid.FacetGrid at 0x14116af10>"
      ]
     },
     "execution_count": 13,
     "metadata": {},
     "output_type": "execute_result"
    },
    {
     "data": {
      "image/png": "[encoded data removed]",
      "text/plain": [
       "<Figure size 572.111x500 with 1 Axes>"
      ]
     },
     "metadata": {},
     "output_type": "display_data"
    }
   ],
   "source": [
    "# Plot the suvival rate according to sex\n",
    "\n",
    "sns.catplot(x = 'Sex', hue = 'Survived', kind = 'count', data = train_data_copy)"
   ]
  },
  {
   "cell_type": "code",
   "execution_count": 14,
   "id": "07e94e40",
   "metadata": {},
   "outputs": [
    {
     "data": {
      "text/plain": [
       "0.42     1\n",
       "0.67     1\n",
       "0.75     2\n",
       "0.83     2\n",
       "0.92     1\n",
       "        ..\n",
       "70.00    2\n",
       "70.50    1\n",
       "71.00    2\n",
       "74.00    1\n",
       "80.00    1\n",
       "Name: Age, Length: 88, dtype: int64"
      ]
     },
     "execution_count": 14,
     "metadata": {},
     "output_type": "execute_result"
    }
   ],
   "source": [
    "# Take a quick look at the Age column\n",
    "\n",
    "train_data_copy['Age'].value_counts().sort_index()"
   ]
  },
  {
   "cell_type": "code",
   "execution_count": 15,
   "id": "a01bbdbe",
   "metadata": {},
   "outputs": [],
   "source": [
    "# Group Age column into age group\n",
    "\n",
    "def group_by_age(train_data_copy):\n",
    "    age_g = train_data_copy['Age']\n",
    "    if age_g > 0.00 and age_g <= 10.00:\n",
    "        return '0-10'\n",
    "    if age_g > 10.00 and age_g <= 20.00:\n",
    "        return '10-20'\n",
    "    if age_g > 20.00 and age_g <= 30.00:\n",
    "        return '20-30'\n",
    "    if age_g > 30.00 and age_g <= 40.00:\n",
    "        return '30-40'\n",
    "    if age_g > 40.00 and age_g <= 50.00:\n",
    "        return '40-50'\n",
    "    if age_g > 50.00 and age_g <= 60.00:\n",
    "        return '50-60'\n",
    "    if age_g > 60.00 and age_g <= 70.00:\n",
    "        return '60-70'\n",
    "    if age_g > 70.00 and age_g <= 80.00:\n",
    "        return '70-80'\n",
    "\n",
    "train_data_copy['Age'] = train_data_copy.apply(group_by_age, axis = 1)"
   ]
  },
  {
   "cell_type": "code",
   "execution_count": 16,
   "id": "ff4b45cf",
   "metadata": {},
   "outputs": [
    {
     "data": {
      "text/plain": [
       "<seaborn.axisgrid.FacetGrid at 0x14126bbe0>"
      ]
     },
     "execution_count": 16,
     "metadata": {},
     "output_type": "execute_result"
    },
    {
     "data": {
      "image/png": "[encoded data removed]",
      "text/plain": [
       "<Figure size 572.111x500 with 1 Axes>"
      ]
     },
     "metadata": {},
     "output_type": "display_data"
    }
   ],
   "source": [
    "# Plot the suvival rate according to age group\n",
    "\n",
    "sns.catplot(x = 'Age', hue = 'Survived', kind = 'count', data = train_data_copy.sort_values(by = 'Age'))"
   ]
  },
  {
   "cell_type": "code",
   "execution_count": 17,
   "id": "e2428248",
   "metadata": {},
   "outputs": [
    {
     "data": {
      "text/plain": [
       "0    608\n",
       "1    209\n",
       "2     28\n",
       "4     18\n",
       "3     16\n",
       "8      7\n",
       "5      5\n",
       "Name: SibSp, dtype: int64"
      ]
     },
     "execution_count": 17,
     "metadata": {},
     "output_type": "execute_result"
    }
   ],
   "source": [
    "# Take a quick look at SibSp variable\n",
    "\n",
    "train_data_copy['SibSp'].value_counts()"
   ]
  },
  {
   "cell_type": "code",
   "execution_count": 18,
   "id": "8bfc194b",
   "metadata": {},
   "outputs": [
    {
     "data": {
      "text/plain": [
       "<seaborn.axisgrid.FacetGrid at 0x14100d310>"
      ]
     },
     "execution_count": 18,
     "metadata": {},
     "output_type": "execute_result"
    },
    {
     "data": {
      "image/png": "[encoded data removed]",
      "text/plain": [
       "<Figure size 572.111x500 with 1 Axes>"
      ]
     },
     "metadata": {},
     "output_type": "display_data"
    }
   ],
   "source": [
    "# Plot the suvival rate according to number of siblings/spouses onboard\n",
    "\n",
    "sns.catplot(x = 'SibSp', hue = 'Survived', kind = 'count', data = train_data_copy)"
   ]
  },
  {
   "cell_type": "code",
   "execution_count": 19,
   "id": "8d1e8cfa",
   "metadata": {},
   "outputs": [
    {
     "data": {
      "text/plain": [
       "0    678\n",
       "1    118\n",
       "2     80\n",
       "5      5\n",
       "3      5\n",
       "4      4\n",
       "6      1\n",
       "Name: Parch, dtype: int64"
      ]
     },
     "execution_count": 19,
     "metadata": {},
     "output_type": "execute_result"
    }
   ],
   "source": [
    "# Take a quick look at the Parch column\n",
    "\n",
    "train_data_copy['Parch'].value_counts()"
   ]
  },
  {
   "cell_type": "code",
   "execution_count": 20,
   "id": "199cbd49",
   "metadata": {},
   "outputs": [
    {
     "data": {
      "text/plain": [
       "<seaborn.axisgrid.FacetGrid at 0x1413ce640>"
      ]
     },
     "execution_count": 20,
     "metadata": {},
     "output_type": "execute_result"
    },
    {
     "data": {
      "image/png": "[encoded data removed]",
      "text/plain": [
       "<Figure size 572.111x500 with 1 Axes>"
      ]
     },
     "metadata": {},
     "output_type": "display_data"
    }
   ],
   "source": [
    "# Plot the suvival rate according to number of parents/children onboard\n",
    "\n",
    "sns.catplot(x = 'Parch', hue = 'Survived', kind = 'count', data = train_data_copy)"
   ]
  },
  {
   "cell_type": "code",
   "execution_count": 21,
   "id": "cf8f9f6e",
   "metadata": {},
   "outputs": [
    {
     "data": {
      "text/plain": [
       "0.0000      15\n",
       "4.0125       1\n",
       "5.0000       1\n",
       "6.2375       1\n",
       "6.4375       1\n",
       "            ..\n",
       "227.5250     4\n",
       "247.5208     2\n",
       "262.3750     2\n",
       "263.0000     4\n",
       "512.3292     3\n",
       "Name: Fare, Length: 248, dtype: int64"
      ]
     },
     "execution_count": 21,
     "metadata": {},
     "output_type": "execute_result"
    }
   ],
   "source": [
    "# Take a quick look at the Fare column\n",
    "\n",
    "train_data_copy['Fare'].value_counts().sort_index()"
   ]
  },
  {
   "cell_type": "code",
   "execution_count": 22,
   "id": "7347b9ae",
   "metadata": {},
   "outputs": [],
   "source": [
    "# Group Fare column into fare group\n",
    "\n",
    "def group_by_fare(train_data_copy):\n",
    "    fare_g = train_data_copy['Fare']\n",
    "    if fare_g > 0.00 and fare_g <= 50.00:\n",
    "        return '0-50'\n",
    "    if fare_g > 50.00 and fare_g <= 100.00:\n",
    "        return '50-100'\n",
    "    if fare_g > 100.00 and fare_g <= 150.00:\n",
    "        return '100-150'\n",
    "    if fare_g > 150.00 and fare_g <= 200.00:\n",
    "        return '150-200'\n",
    "    if fare_g > 200.00 and fare_g <= 250.00:\n",
    "        return '200-250'\n",
    "\n",
    "train_data_copy['Fare'] = train_data_copy.apply(group_by_fare, axis = 1)"
   ]
  },
  {
   "cell_type": "code",
   "execution_count": 23,
   "id": "309989ec",
   "metadata": {},
   "outputs": [
    {
     "data": {
      "text/plain": [
       "<seaborn.axisgrid.FacetGrid at 0x141273760>"
      ]
     },
     "execution_count": 23,
     "metadata": {},
     "output_type": "execute_result"
    },
    {
     "data": {
      "image/png": "[encoded data removed]",
      "text/plain": [
       "<Figure size 572.111x500 with 1 Axes>"
      ]
     },
     "metadata": {},
     "output_type": "display_data"
    }
   ],
   "source": [
    "# Plot the suvival rate according to fare paid\n",
    "\n",
    "sns.catplot(x = 'Fare', hue = 'Survived', kind = 'count', data = train_data_copy)"
   ]
  },
  {
   "cell_type": "code",
   "execution_count": 24,
   "id": "e5ac5d74",
   "metadata": {},
   "outputs": [
    {
     "data": {
      "text/plain": [
       "S    644\n",
       "C    168\n",
       "Q     77\n",
       "Name: Embarked, dtype: int64"
      ]
     },
     "execution_count": 24,
     "metadata": {},
     "output_type": "execute_result"
    }
   ],
   "source": [
    "# Take a quick look at the Embarked column\n",
    "\n",
    "train_data_copy['Embarked'].value_counts()"
   ]
  },
  {
   "cell_type": "code",
   "execution_count": 25,
   "id": "04f05a0f",
   "metadata": {},
   "outputs": [
    {
     "data": {
      "text/plain": [
       "<seaborn.axisgrid.FacetGrid at 0x1414633a0>"
      ]
     },
     "execution_count": 25,
     "metadata": {},
     "output_type": "execute_result"
    },
    {
     "data": {
      "image/png": "[encoded data removed]",
      "text/plain": [
       "<Figure size 572.111x500 with 1 Axes>"
      ]
     },
     "metadata": {},
     "output_type": "display_data"
    }
   ],
   "source": [
    "# Plot the suvival rate according to port of embarkation\n",
    "\n",
    "sns.catplot(x = 'Embarked', hue = 'Survived', kind = 'count', data = train_data_copy)"
   ]
  },
  {
   "cell_type": "code",
   "execution_count": 26,
   "id": "5ee82e32",
   "metadata": {},
   "outputs": [
    {
     "name": "stderr",
     "output_type": "stream",
     "text": [
      "/var/folders/01/ybv2rty51556cvf3x2h0ry100000gn/T/ipykernel_41566/351864932.py:3: FutureWarning: The default value of numeric_only in DataFrame.corr is deprecated. In a future version, it will default to False. Select only valid columns or specify the value of numeric_only to silence this warning.\n",
      "  sns.heatmap(train_data_copy.corr())\n"
     ]
    },
    {
     "data": {
      "text/plain": [
       "<AxesSubplot: >"
      ]
     },
     "execution_count": 26,
     "metadata": {},
     "output_type": "execute_result"
    },
    {
     "data": {
      "image/png": "[encoded data removed]",
      "text/plain": [
       "<Figure size 640x480 with 2 Axes>"
      ]
     },
     "metadata": {},
     "output_type": "display_data"
    }
   ],
   "source": [
    "# Look at correlation\n",
    "\n",
    "sns.heatmap(train_data_copy.corr())"
   ]
  },
  {
   "cell_type": "markdown",
   "id": "e6f266b8",
   "metadata": {},
   "source": [
    "### Observations: \n",
    "\n",
    "* Passengers who paid higher fares and were in the upper class were more likely to survive.\n",
    "* Females have a higher likelihood of survival compared to males.\n",
    "* Passengers within the age of 20-30 and 30-40 are more likely to survive.\n",
    "* Passengers who travelled alone has a lower likelihood of survival.\n",
    "* There is a small negative correlation between Pclass and Survived, while there is a small positive correlation between Parch and Survived."
   ]
  },
  {
   "cell_type": "markdown",
   "id": "193e7aa8",
   "metadata": {},
   "source": [
    "---"
   ]
  },
  {
   "cell_type": "markdown",
   "id": "fae4e63d",
   "metadata": {},
   "source": [
    "<a class=\"anchor\" id=\"section-four\"></a>\n",
    "## 4. Prepare Data\n",
    "\n",
    "* Create five different custom transformers to handle preprocessing, attribute combinations anf feature engineering.\n",
    "* Build a complex pipeline that 1) integrates our custom transformers and 2) combines two separate pipelines for both numerical and categorical variables."
   ]
  },
  {
   "cell_type": "markdown",
   "id": "1ae2f38e",
   "metadata": {},
   "source": [
    "### Understanding Custom Transformers:\n",
    "\n",
    "You may be wondering: what **exactly** is a custom transformer? \n",
    "\n",
    "Basically, it's an object where we can apply custom transformations on input data. Even though Scikit-Learn has a ton of transformers we can use (like StandardScaler, etc.), sometimes we just need something a lil different.\n",
    "\n",
    "Custom transformers can also integrate seamlessly with pipelines (more on that later), allowing us to **automate** data preparation. This gives us more time to play around with new features and different combinations.\n",
    "\n",
    "To get started, we need to define a class with two methods: **fit** and **transform**. The fit method simply needs to return self, whereas the transform method is where our custom transformations take place. To avoid augmenting the original dataset, we'll create a copy before making changes and returning the dataset."
   ]
  },
  {
   "cell_type": "markdown",
   "id": "c3a318a7",
   "metadata": {},
   "source": [
    "<a class=\"anchor\" id=\"section-four-one\"></a>\n",
    "### 4.1: Datatype Changer"
   ]
  },
  {
   "cell_type": "code",
   "execution_count": 27,
   "id": "cf6f7a18",
   "metadata": {},
   "outputs": [],
   "source": [
    "# Create a custom transformer to changer datatype\n",
    "\n",
    "class DatatypeChanger():\n",
    "\n",
    "    def __init__(self, columns):\n",
    "        self.columns = columns\n",
    "       \n",
    "    def fit(self, X, y = None):\n",
    "        return self\n",
    "    \n",
    "    def transform(self, X, y = None):\n",
    "        X_copy = X.copy()\n",
    "        X_copy[self.columns] = X_copy[self.columns].astype(object)\n",
    "        \n",
    "        return X_copy"
   ]
  },
  {
   "cell_type": "markdown",
   "id": "8a8f77dd",
   "metadata": {},
   "source": [
    "<a class=\"anchor\" id=\"section-four-two\"></a>\n",
    "### 4.2: Column Deleter "
   ]
  },
  {
   "cell_type": "code",
   "execution_count": 28,
   "id": "efe65947",
   "metadata": {},
   "outputs": [],
   "source": [
    "# Create a custom transformer to delete any column we want\n",
    "\n",
    "class ColumnDeleter():\n",
    "\n",
    "    def __init__(self, columns):\n",
    "        self.columns = columns\n",
    "       \n",
    "    def fit(self, X, y = None):\n",
    "        return self\n",
    "    \n",
    "    def transform(self, X, y = None):\n",
    "        X_copy = X.copy()\n",
    "        X_copy = X_copy.drop(self.columns, axis = 1)\n",
    "        \n",
    "        return X_copy"
   ]
  },
  {
   "cell_type": "markdown",
   "id": "3d4c90ab",
   "metadata": {},
   "source": [
    "<a class=\"anchor\" id=\"section-four-three\"></a>\n",
    "### 4.3: Column Combiner "
   ]
  },
  {
   "cell_type": "code",
   "execution_count": 29,
   "id": "ad4c5645",
   "metadata": {},
   "outputs": [],
   "source": [
    "# Create a custom transformer to combine any column we want\n",
    "\n",
    "class ColumnCombiner():\n",
    "    \n",
    "    def __init__(self):\n",
    "        return None\n",
    "       \n",
    "    def fit(self, X, y = None):\n",
    "        return self\n",
    "    \n",
    "    def transform(self, X, y = None):\n",
    "        X_copy = X.copy()\n",
    "        X_copy['FamilySize'] = X_copy['SibSp'] + X_copy['Parch'] + 1.00\n",
    "        \n",
    "        return X_copy"
   ]
  },
  {
   "cell_type": "markdown",
   "id": "66e84cf8",
   "metadata": {},
   "source": [
    "<a class=\"anchor\" id=\"section-four-four\"></a>\n",
    "### 4.4: Title Extractor"
   ]
  },
  {
   "cell_type": "code",
   "execution_count": 30,
   "id": "0ac7b371",
   "metadata": {},
   "outputs": [],
   "source": [
    "# Create a custom transformer to extract the titles from the name column \n",
    "\n",
    "class TitleExtractor():\n",
    "    \n",
    "    def __init__(self):\n",
    "        return None\n",
    "       \n",
    "    def fit(self, X, y = None):\n",
    "        return self\n",
    "    \n",
    "    def transform(self, X, y = None):\n",
    "        X_copy = X.copy()\n",
    "        replacers = {'Mlle': 'Miss', 'Ms': 'Miss', 'Mme': 'Mrs', 'Jonkheer': 'Noble', 'Don': 'Noble', 'Dona': 'Noble', \\\n",
    "                     'Sir': 'Noble', 'Countess': 'Noble', 'Lady': 'Noble', 'Rev': 'Clergy/Doctor', 'Dr': 'Clergy/Doctor', \\\n",
    "                     'Major': 'Military', 'Col': 'Military', 'Capt': 'Military'}\n",
    "        \n",
    "        X_copy['Title'] = X_copy['Name'].str.extract(' ([\\w]+)\\.')\n",
    "        X_copy['Title'] = X_copy['Title'].replace(replacers)\n",
    "        \n",
    "        return X_copy"
   ]
  },
  {
   "cell_type": "markdown",
   "id": "3202395f",
   "metadata": {},
   "source": [
    "<a class=\"anchor\" id=\"section-four-five\"></a>\n",
    "### 4.5: Age Imputer"
   ]
  },
  {
   "cell_type": "code",
   "execution_count": 31,
   "id": "daafdeca",
   "metadata": {},
   "outputs": [],
   "source": [
    "# Create a custom transformer to impute the missing values in age\n",
    "\n",
    "class AgeImputer():\n",
    "    \n",
    "    def __init__(self):\n",
    "        self.title_med_list = []\n",
    "        self.title_med_dict = {}\n",
    "       \n",
    "    def fit(self, X, y = None):\n",
    "        return self\n",
    "    \n",
    "    def transform(self, X, y = None):\n",
    "        X_copy = X.copy()\n",
    "        title_uniq = X_copy['Title'].unique()\n",
    "        \n",
    "        for idx in X_copy['Title'].unique():\n",
    "            title_med = X_copy[X_copy['Title'] == idx]['Age'].median()\n",
    "            self.title_med_list.append(title_med)\n",
    "            \n",
    "        self.title_med_dict = dict(zip(title_uniq, self.title_med_list))\n",
    "        \n",
    "        for idx, val in X_copy['Age'].items():\n",
    "            if pd.isnull(val):\n",
    "                X_copy.loc[idx, 'Age'] = self.title_med_dict.get(X_copy.loc[idx, 'Title']) \n",
    "        \n",
    "        return X_copy"
   ]
  },
  {
   "cell_type": "markdown",
   "id": "ee659567",
   "metadata": {},
   "source": [
    "<a class=\"anchor\" id=\"section-four-six\"></a>\n",
    "### 4.6: Pipeline"
   ]
  },
  {
   "cell_type": "markdown",
   "id": "6a510bfb",
   "metadata": {},
   "source": [
    "### Understanding Pipelines:\n",
    "\n",
    "Pipelines essentially chain together a series of transformers (or estimators).\n",
    "\n",
    "By ensuring that the same transformations are applied to both the training and test set, this helps to **prevent data leakage**. Furthermore, the code becomes more **readable** and **replicable**.\n",
    "\n",
    "The first step is to apply the five custom transformers we created above. \n",
    "\n",
    "Step two combines two separate pipelines, using ColumnTransformer, for numerical and categorical variables. The numerical pipeline will apply SimpleImputer and StandardScaler, while the categorical pipeline will apply SimpleImputer and OneHotEncoder. The columns are selected based on their datatypes (float and integer for numerical and object for categorical)."
   ]
  },
  {
   "cell_type": "code",
   "execution_count": 32,
   "id": "9fd8e076",
   "metadata": {},
   "outputs": [],
   "source": [
    "# Import libraries\n",
    "\n",
    "from sklearn.pipeline import Pipeline, make_pipeline\n",
    "from sklearn.impute import SimpleImputer\n",
    "from sklearn.preprocessing import StandardScaler\n",
    "from sklearn.preprocessing import OneHotEncoder\n",
    "from sklearn.compose import ColumnTransformer, make_column_selector"
   ]
  },
  {
   "cell_type": "code",
   "execution_count": 33,
   "id": "352944b7",
   "metadata": {},
   "outputs": [],
   "source": [
    "# Build pipeline\n",
    "\n",
    "preprocess_pipeline = Pipeline([\n",
    "                                # Step 1: Apply custom transformers\n",
    "                                ('datatype changer', DatatypeChanger(columns = ['Pclass'])),\n",
    "                                ('columncombiner', ColumnCombiner()),\n",
    "                                ('title extractor', TitleExtractor()),\n",
    "                                ('age imputer', AgeImputer()),\n",
    "                                ('column deleter', ColumnDeleter(columns = ['PassengerId', 'Name', 'SibSp', 'Parch', 'Ticket', 'Cabin'])),\n",
    "                                \n",
    "                                # Step 2: Integreate Sklearn transformers\n",
    "                                ('cleaner', ColumnTransformer([\n",
    "                                    ('num', make_pipeline(\n",
    "                                                          SimpleImputer(strategy = \"median\"),\n",
    "                                                          StandardScaler()), \n",
    "                                                                make_column_selector(dtype_include = ['float64', 'int64'])),\n",
    "                                    ('cat', make_pipeline(\n",
    "                                                          SimpleImputer(strategy = 'most_frequent'),\n",
    "                                                          OneHotEncoder()), \n",
    "                                                                make_column_selector(dtype_include = 'object'))]))\n",
    "])"
   ]
  },
  {
   "cell_type": "code",
   "execution_count": 34,
   "id": "6266297c",
   "metadata": {},
   "outputs": [
    {
     "data": {
      "text/html": [
       "<style>#sk-container-id-1 {color: black;background-color: white;}#sk-container-id-1 pre{padding: 0;}#sk-container-id-1 div.sk-toggleable {background-color: white;}#sk-container-id-1 label.sk-toggleable__label {cursor: pointer;display: block;width: 100%;margin-bottom: 0;padding: 0.3em;box-sizing: border-box;text-align: center;}#sk-container-id-1 label.sk-toggleable__label-arrow:before {content: \"▸\";float: left;margin-right: 0.25em;color: #696969;}#sk-container-id-1 label.sk-toggleable__label-arrow:hover:before {color: black;}#sk-container-id-1 div.sk-estimator:hover label.sk-toggleable__label-arrow:before {color: black;}#sk-container-id-1 div.sk-toggleable__content {max-height: 0;max-width: 0;overflow: hidden;text-align: left;background-color: #f0f8ff;}#sk-container-id-1 div.sk-toggleable__content pre {margin: 0.2em;color: black;border-radius: 0.25em;background-color: #f0f8ff;}#sk-container-id-1 input.sk-toggleable__control:checked~div.sk-toggleable__content {max-height: 200px;max-width: 100%;overflow: auto;}#sk-container-id-1 input.sk-toggleable__control:checked~label.sk-toggleable__label-arrow:before {content: \"▾\";}#sk-container-id-1 div.sk-estimator input.sk-toggleable__control:checked~label.sk-toggleable__label {background-color: #d4ebff;}#sk-container-id-1 div.sk-label input.sk-toggleable__control:checked~label.sk-toggleable__label {background-color: #d4ebff;}#sk-container-id-1 input.sk-hidden--visually {border: 0;clip: rect(1px 1px 1px 1px);clip: rect(1px, 1px, 1px, 1px);height: 1px;margin: -1px;overflow: hidden;padding: 0;position: absolute;width: 1px;}#sk-container-id-1 div.sk-estimator {font-family: monospace;background-color: #f0f8ff;border: 1px dotted black;border-radius: 0.25em;box-sizing: border-box;margin-bottom: 0.5em;}#sk-container-id-1 div.sk-estimator:hover {background-color: #d4ebff;}#sk-container-id-1 div.sk-parallel-item::after {content: \"\";width: 100%;border-bottom: 1px solid gray;flex-grow: 1;}#sk-container-id-1 div.sk-label:hover label.sk-toggleable__label {background-color: #d4ebff;}#sk-container-id-1 div.sk-serial::before {content: \"\";position: absolute;border-left: 1px solid gray;box-sizing: border-box;top: 0;bottom: 0;left: 50%;z-index: 0;}#sk-container-id-1 div.sk-serial {display: flex;flex-direction: column;align-items: center;background-color: white;padding-right: 0.2em;padding-left: 0.2em;position: relative;}#sk-container-id-1 div.sk-item {position: relative;z-index: 1;}#sk-container-id-1 div.sk-parallel {display: flex;align-items: stretch;justify-content: center;background-color: white;position: relative;}#sk-container-id-1 div.sk-item::before, #sk-container-id-1 div.sk-parallel-item::before {content: \"\";position: absolute;border-left: 1px solid gray;box-sizing: border-box;top: 0;bottom: 0;left: 50%;z-index: -1;}#sk-container-id-1 div.sk-parallel-item {display: flex;flex-direction: column;z-index: 1;position: relative;background-color: white;}#sk-container-id-1 div.sk-parallel-item:first-child::after {align-self: flex-end;width: 50%;}#sk-container-id-1 div.sk-parallel-item:last-child::after {align-self: flex-start;width: 50%;}#sk-container-id-1 div.sk-parallel-item:only-child::after {width: 0;}#sk-container-id-1 div.sk-dashed-wrapped {border: 1px dashed gray;margin: 0 0.4em 0.5em 0.4em;box-sizing: border-box;padding-bottom: 0.4em;background-color: white;}#sk-container-id-1 div.sk-label label {font-family: monospace;font-weight: bold;display: inline-block;line-height: 1.2em;}#sk-container-id-1 div.sk-label-container {text-align: center;}#sk-container-id-1 div.sk-container {/* jupyter's `normalize.less` sets `[hidden] { display: none; }` but bootstrap.min.css set `[hidden] { display: none !important; }` so we also need the `!important` here to be able to override the default hidden behavior on the sphinx rendered scikit-learn.org. See: https://github.com/scikit-learn/scikit-learn/issues/21755 */display: inline-block !important;position: relative;}#sk-container-id-1 div.sk-text-repr-fallback {display: none;}</style><div id=\"sk-container-id-1\" class=\"sk-top-container\"><div class=\"sk-text-repr-fallback\"><pre>Pipeline(steps=[(&#x27;datatype changer&#x27;,\n",
       "                 &lt;__main__.DatatypeChanger object at 0x141108a60&gt;),\n",
       "                (&#x27;columncombiner&#x27;,\n",
       "                 &lt;__main__.ColumnCombiner object at 0x141108400&gt;),\n",
       "                (&#x27;title extractor&#x27;,\n",
       "                 &lt;__main__.TitleExtractor object at 0x1411083d0&gt;),\n",
       "                (&#x27;age imputer&#x27;, &lt;__main__.AgeImputer object at 0x1411083a0&gt;),\n",
       "                (&#x27;column deleter&#x27;,\n",
       "                 &lt;__main__.ColumnDeleter object at 0x141108340&gt;),\n",
       "                (&#x27;cleaner&#x27;,\n",
       "                 ColumnTrans...\n",
       "                                                                   SimpleImputer(strategy=&#x27;median&#x27;)),\n",
       "                                                                  (&#x27;standardscaler&#x27;,\n",
       "                                                                   StandardScaler())]),\n",
       "                                                  &lt;sklearn.compose._column_transformer.make_column_selector object at 0x1411084f0&gt;),\n",
       "                                                 (&#x27;cat&#x27;,\n",
       "                                                  Pipeline(steps=[(&#x27;simpleimputer&#x27;,\n",
       "                                                                   SimpleImputer(strategy=&#x27;most_frequent&#x27;)),\n",
       "                                                                  (&#x27;onehotencoder&#x27;,\n",
       "                                                                   OneHotEncoder())]),\n",
       "                                                  &lt;sklearn.compose._column_transformer.make_column_selector object at 0x1432dbc40&gt;)]))])</pre><b>In a Jupyter environment, please rerun this cell to show the HTML representation or trust the notebook. <br />On GitHub, the HTML representation is unable to render, please try loading this page with nbviewer.org.</b></div><div class=\"sk-container\" hidden><div class=\"sk-item sk-dashed-wrapped\"><div class=\"sk-label-container\"><div class=\"sk-label sk-toggleable\"><input class=\"sk-toggleable__control sk-hidden--visually\" id=\"sk-estimator-id-1\" type=\"checkbox\" ><label for=\"sk-estimator-id-1\" class=\"sk-toggleable__label sk-toggleable__label-arrow\">Pipeline</label><div class=\"sk-toggleable__content\"><pre>Pipeline(steps=[(&#x27;datatype changer&#x27;,\n",
       "                 &lt;__main__.DatatypeChanger object at 0x141108a60&gt;),\n",
       "                (&#x27;columncombiner&#x27;,\n",
       "                 &lt;__main__.ColumnCombiner object at 0x141108400&gt;),\n",
       "                (&#x27;title extractor&#x27;,\n",
       "                 &lt;__main__.TitleExtractor object at 0x1411083d0&gt;),\n",
       "                (&#x27;age imputer&#x27;, &lt;__main__.AgeImputer object at 0x1411083a0&gt;),\n",
       "                (&#x27;column deleter&#x27;,\n",
       "                 &lt;__main__.ColumnDeleter object at 0x141108340&gt;),\n",
       "                (&#x27;cleaner&#x27;,\n",
       "                 ColumnTrans...\n",
       "                                                                   SimpleImputer(strategy=&#x27;median&#x27;)),\n",
       "                                                                  (&#x27;standardscaler&#x27;,\n",
       "                                                                   StandardScaler())]),\n",
       "                                                  &lt;sklearn.compose._column_transformer.make_column_selector object at 0x1411084f0&gt;),\n",
       "                                                 (&#x27;cat&#x27;,\n",
       "                                                  Pipeline(steps=[(&#x27;simpleimputer&#x27;,\n",
       "                                                                   SimpleImputer(strategy=&#x27;most_frequent&#x27;)),\n",
       "                                                                  (&#x27;onehotencoder&#x27;,\n",
       "                                                                   OneHotEncoder())]),\n",
       "                                                  &lt;sklearn.compose._column_transformer.make_column_selector object at 0x1432dbc40&gt;)]))])</pre></div></div></div><div class=\"sk-serial\"><div class=\"sk-item\"><div class=\"sk-estimator sk-toggleable\"><input class=\"sk-toggleable__control sk-hidden--visually\" id=\"sk-estimator-id-2\" type=\"checkbox\" ><label for=\"sk-estimator-id-2\" class=\"sk-toggleable__label sk-toggleable__label-arrow\">DatatypeChanger</label><div class=\"sk-toggleable__content\"><pre>&lt;__main__.DatatypeChanger object at 0x141108a60&gt;</pre></div></div></div><div class=\"sk-item\"><div class=\"sk-estimator sk-toggleable\"><input class=\"sk-toggleable__control sk-hidden--visually\" id=\"sk-estimator-id-3\" type=\"checkbox\" ><label for=\"sk-estimator-id-3\" class=\"sk-toggleable__label sk-toggleable__label-arrow\">ColumnCombiner</label><div class=\"sk-toggleable__content\"><pre>&lt;__main__.ColumnCombiner object at 0x141108400&gt;</pre></div></div></div><div class=\"sk-item\"><div class=\"sk-estimator sk-toggleable\"><input class=\"sk-toggleable__control sk-hidden--visually\" id=\"sk-estimator-id-4\" type=\"checkbox\" ><label for=\"sk-estimator-id-4\" class=\"sk-toggleable__label sk-toggleable__label-arrow\">TitleExtractor</label><div class=\"sk-toggleable__content\"><pre>&lt;__main__.TitleExtractor object at 0x1411083d0&gt;</pre></div></div></div><div class=\"sk-item\"><div class=\"sk-estimator sk-toggleable\"><input class=\"sk-toggleable__control sk-hidden--visually\" id=\"sk-estimator-id-5\" type=\"checkbox\" ><label for=\"sk-estimator-id-5\" class=\"sk-toggleable__label sk-toggleable__label-arrow\">AgeImputer</label><div class=\"sk-toggleable__content\"><pre>&lt;__main__.AgeImputer object at 0x1411083a0&gt;</pre></div></div></div><div class=\"sk-item\"><div class=\"sk-estimator sk-toggleable\"><input class=\"sk-toggleable__control sk-hidden--visually\" id=\"sk-estimator-id-6\" type=\"checkbox\" ><label for=\"sk-estimator-id-6\" class=\"sk-toggleable__label sk-toggleable__label-arrow\">ColumnDeleter</label><div class=\"sk-toggleable__content\"><pre>&lt;__main__.ColumnDeleter object at 0x141108340&gt;</pre></div></div></div><div class=\"sk-item sk-dashed-wrapped\"><div class=\"sk-label-container\"><div class=\"sk-label sk-toggleable\"><input class=\"sk-toggleable__control sk-hidden--visually\" id=\"sk-estimator-id-7\" type=\"checkbox\" ><label for=\"sk-estimator-id-7\" class=\"sk-toggleable__label sk-toggleable__label-arrow\">cleaner: ColumnTransformer</label><div class=\"sk-toggleable__content\"><pre>ColumnTransformer(transformers=[(&#x27;num&#x27;,\n",
       "                                 Pipeline(steps=[(&#x27;simpleimputer&#x27;,\n",
       "                                                  SimpleImputer(strategy=&#x27;median&#x27;)),\n",
       "                                                 (&#x27;standardscaler&#x27;,\n",
       "                                                  StandardScaler())]),\n",
       "                                 &lt;sklearn.compose._column_transformer.make_column_selector object at 0x1411084f0&gt;),\n",
       "                                (&#x27;cat&#x27;,\n",
       "                                 Pipeline(steps=[(&#x27;simpleimputer&#x27;,\n",
       "                                                  SimpleImputer(strategy=&#x27;most_frequent&#x27;)),\n",
       "                                                 (&#x27;onehotencoder&#x27;,\n",
       "                                                  OneHotEncoder())]),\n",
       "                                 &lt;sklearn.compose._column_transformer.make_column_selector object at 0x1432dbc40&gt;)])</pre></div></div></div><div class=\"sk-parallel\"><div class=\"sk-parallel-item\"><div class=\"sk-item\"><div class=\"sk-label-container\"><div class=\"sk-label sk-toggleable\"><input class=\"sk-toggleable__control sk-hidden--visually\" id=\"sk-estimator-id-8\" type=\"checkbox\" ><label for=\"sk-estimator-id-8\" class=\"sk-toggleable__label sk-toggleable__label-arrow\">num</label><div class=\"sk-toggleable__content\"><pre>&lt;sklearn.compose._column_transformer.make_column_selector object at 0x1411084f0&gt;</pre></div></div></div><div class=\"sk-serial\"><div class=\"sk-item\"><div class=\"sk-serial\"><div class=\"sk-item\"><div class=\"sk-estimator sk-toggleable\"><input class=\"sk-toggleable__control sk-hidden--visually\" id=\"sk-estimator-id-9\" type=\"checkbox\" ><label for=\"sk-estimator-id-9\" class=\"sk-toggleable__label sk-toggleable__label-arrow\">SimpleImputer</label><div class=\"sk-toggleable__content\"><pre>SimpleImputer(strategy=&#x27;median&#x27;)</pre></div></div></div><div class=\"sk-item\"><div class=\"sk-estimator sk-toggleable\"><input class=\"sk-toggleable__control sk-hidden--visually\" id=\"sk-estimator-id-10\" type=\"checkbox\" ><label for=\"sk-estimator-id-10\" class=\"sk-toggleable__label sk-toggleable__label-arrow\">StandardScaler</label><div class=\"sk-toggleable__content\"><pre>StandardScaler()</pre></div></div></div></div></div></div></div></div><div class=\"sk-parallel-item\"><div class=\"sk-item\"><div class=\"sk-label-container\"><div class=\"sk-label sk-toggleable\"><input class=\"sk-toggleable__control sk-hidden--visually\" id=\"sk-estimator-id-11\" type=\"checkbox\" ><label for=\"sk-estimator-id-11\" class=\"sk-toggleable__label sk-toggleable__label-arrow\">cat</label><div class=\"sk-toggleable__content\"><pre>&lt;sklearn.compose._column_transformer.make_column_selector object at 0x1432dbc40&gt;</pre></div></div></div><div class=\"sk-serial\"><div class=\"sk-item\"><div class=\"sk-serial\"><div class=\"sk-item\"><div class=\"sk-estimator sk-toggleable\"><input class=\"sk-toggleable__control sk-hidden--visually\" id=\"sk-estimator-id-12\" type=\"checkbox\" ><label for=\"sk-estimator-id-12\" class=\"sk-toggleable__label sk-toggleable__label-arrow\">SimpleImputer</label><div class=\"sk-toggleable__content\"><pre>SimpleImputer(strategy=&#x27;most_frequent&#x27;)</pre></div></div></div><div class=\"sk-item\"><div class=\"sk-estimator sk-toggleable\"><input class=\"sk-toggleable__control sk-hidden--visually\" id=\"sk-estimator-id-13\" type=\"checkbox\" ><label for=\"sk-estimator-id-13\" class=\"sk-toggleable__label sk-toggleable__label-arrow\">OneHotEncoder</label><div class=\"sk-toggleable__content\"><pre>OneHotEncoder()</pre></div></div></div></div></div></div></div></div></div></div></div></div></div></div>"
      ],
      "text/plain": [
       "Pipeline(steps=[('datatype changer',\n",
       "                 <__main__.DatatypeChanger object at 0x141108a60>),\n",
       "                ('columncombiner',\n",
       "                 <__main__.ColumnCombiner object at 0x141108400>),\n",
       "                ('title extractor',\n",
       "                 <__main__.TitleExtractor object at 0x1411083d0>),\n",
       "                ('age imputer', <__main__.AgeImputer object at 0x1411083a0>),\n",
       "                ('column deleter',\n",
       "                 <__main__.ColumnDeleter object at 0x141108340>),\n",
       "                ('cleaner',\n",
       "                 ColumnTrans...\n",
       "                                                                   SimpleImputer(strategy='median')),\n",
       "                                                                  ('standardscaler',\n",
       "                                                                   StandardScaler())]),\n",
       "                                                  <sklearn.compose._column_transformer.make_column_selector object at 0x1411084f0>),\n",
       "                                                 ('cat',\n",
       "                                                  Pipeline(steps=[('simpleimputer',\n",
       "                                                                   SimpleImputer(strategy='most_frequent')),\n",
       "                                                                  ('onehotencoder',\n",
       "                                                                   OneHotEncoder())]),\n",
       "                                                  <sklearn.compose._column_transformer.make_column_selector object at 0x1432dbc40>)]))])"
      ]
     },
     "execution_count": 34,
     "metadata": {},
     "output_type": "execute_result"
    }
   ],
   "source": [
    "# Apply fit to X_train\n",
    "\n",
    "preprocess_pipeline.fit(X_train)"
   ]
  },
  {
   "cell_type": "code",
   "execution_count": 35,
   "id": "7f1854a6",
   "metadata": {},
   "outputs": [
    {
     "data": {
      "text/plain": [
       "array([[-0.55741976, -0.50244517,  0.05915988, ...,  1.        ,\n",
       "         0.        ,  0.        ],\n",
       "       [ 0.64941006,  0.78684529,  0.05915988, ...,  0.        ,\n",
       "         1.        ,  0.        ],\n",
       "       [-0.25571231, -0.48885426, -0.56097483, ...,  0.        ,\n",
       "         0.        ,  0.        ],\n",
       "       ...,\n",
       "       [-0.63284663, -0.17626324,  1.29942929, ...,  0.        ,\n",
       "         0.        ,  0.        ],\n",
       "       [-0.25571231, -0.04438104, -0.56097483, ...,  1.        ,\n",
       "         0.        ,  0.        ],\n",
       "       [ 0.19684888, -0.49237783, -0.56097483, ...,  1.        ,\n",
       "         0.        ,  0.        ]])"
      ]
     },
     "execution_count": 35,
     "metadata": {},
     "output_type": "execute_result"
    }
   ],
   "source": [
    "# Apply transform to X_train\n",
    "\n",
    "X_train = preprocess_pipeline.transform(X_train)\n",
    "\n",
    "X_train"
   ]
  },
  {
   "cell_type": "markdown",
   "id": "0f3a77a8",
   "metadata": {},
   "source": [
    "---"
   ]
  },
  {
   "cell_type": "markdown",
   "id": "9c56b22e",
   "metadata": {},
   "source": [
    "<a class=\"anchor\" id=\"section-five\"></a>\n",
    "## 5. Select & Train Model\n",
    "\n",
    "* Create five different models: Logistic Regression, K-Nearest Neighbours, Decision Tree, Random Forest and Support Vector Machine.\n",
    "* Perform nested cross validation with two loops: 1) inner loop where the estimators' hyperparameters are tuned and 2) outer loop where the estimators' errors are estimated."
   ]
  },
  {
   "cell_type": "markdown",
   "id": "a7fa39b4",
   "metadata": {},
   "source": [
    "### Understanding Nested Cross Validation:\n",
    "\n",
    "When the same cross validation is used to evaluate and select a model, this leads to **optimistic bias**. \n",
    "\n",
    "Nested cross validation helps to overcome this bias by introducing an inner loop where hyperparameter tuning takes place.\n",
    "\n",
    "In the **inner loop**, we use GridSearchCV to find the most optimal parameters from a given set of parameters (also known as a grid). Using each set of parameters, we test the accuracy using the validation set.\n",
    "\n",
    "In the **outer loop**, we select the model with the best combination of parameters and evaluate its accuracy score."
   ]
  },
  {
   "cell_type": "code",
   "execution_count": 36,
   "id": "837bd74f",
   "metadata": {},
   "outputs": [],
   "source": [
    "# Import libraries\n",
    "\n",
    "from sklearn.linear_model import LogisticRegression\n",
    "from sklearn.neighbors import KNeighborsClassifier\n",
    "from sklearn.tree import DecisionTreeClassifier\n",
    "from sklearn.ensemble import RandomForestClassifier\n",
    "from sklearn.svm import SVC\n",
    "from sklearn.model_selection import StratifiedKFold\n",
    "from sklearn.model_selection import GridSearchCV\n",
    "from sklearn.model_selection import cross_val_score\n",
    "from sklearn.metrics import accuracy_score"
   ]
  },
  {
   "cell_type": "code",
   "execution_count": 37,
   "id": "1c4d553b",
   "metadata": {},
   "outputs": [],
   "source": [
    "# Initialize models\n",
    "\n",
    "lr = LogisticRegression(max_iter = 300, random_state = 3)\n",
    "kn = KNeighborsClassifier(algorithm = 'auto')\n",
    "dt = DecisionTreeClassifier( random_state = 3)\n",
    "rf = RandomForestClassifier(random_state = 3)\n",
    "sv = SVC()"
   ]
  },
  {
   "cell_type": "code",
   "execution_count": 38,
   "id": "5ac544a3",
   "metadata": {},
   "outputs": [],
   "source": [
    "# Create parameter grids\n",
    "\n",
    "param_grid_lr = [{'penalty': ['l2'],\n",
    "                  'C': [0.01, 0.1, 1.0, 10, 100]}]\n",
    "\n",
    "param_grid_kn = [{'n_neighbors': list(range(1, 11)),\n",
    "                  'p': [1, 2]}]\n",
    "\n",
    "param_grid_dt = [{'max_depth': list(range(1, 11))}]\n",
    "\n",
    "param_grid_rf = [{'n_estimators': [1, 10, 100, 1000]}]\n",
    "\n",
    "param_grid_sv = [{'kernel': ['rbf'],\n",
    "                  'C': [0.01, 0.1, 1.0, 10, 100],\n",
    "                  'gamma': [0.01, 0.1, 1.0, 10, 100]}]"
   ]
  },
  {
   "cell_type": "code",
   "execution_count": 39,
   "id": "7eeaf7ed",
   "metadata": {},
   "outputs": [],
   "source": [
    "# Set up grid search objects\n",
    "\n",
    "gridcvs = {}\n",
    "inner_cv = StratifiedKFold(n_splits = 5, shuffle = True, random_state = 3)\n",
    "\n",
    "for name, est, pgrid in zip(('Logistic Regression', 'K-Nearest Neighbors', 'Decision Tree', 'Random Forest', 'Support Vector Machine'),\n",
    "                            (lr, kn, dt, rf, sv),\n",
    "                            (param_grid_lr, param_grid_kn, param_grid_dt, param_grid_rf, param_grid_sv)):    \n",
    "    gcv = GridSearchCV(estimator = est,\n",
    "                       param_grid = pgrid,\n",
    "                       scoring = 'accuracy',\n",
    "                       n_jobs = -1,\n",
    "                       cv = inner_cv,\n",
    "                       verbose = 0,\n",
    "                       refit = True)\n",
    "    gridcvs[name] = gcv"
   ]
  },
  {
   "cell_type": "code",
   "execution_count": 40,
   "id": "0db7e53a",
   "metadata": {
    "scrolled": true
   },
   "outputs": [
    {
     "name": "stdout",
     "output_type": "stream",
     "text": [
      "Algorithm: Decision Tree\n",
      "    Inner loop:\n",
      "\n",
      "        Best Accuracy Score 83.02%\n",
      "        Best parameters: {'max_depth': 8}\n",
      "        Accuracy Score (on outer test fold) 80.00%\n",
      "\n",
      "        Best Accuracy Score 83.17%\n",
      "        Best parameters: {'max_depth': 3}\n",
      "        Accuracy Score (on outer test fold) 80.90%\n",
      "\n",
      "        Best Accuracy Score 81.55%\n",
      "        Best parameters: {'max_depth': 6}\n",
      "        Accuracy Score (on outer test fold) 84.27%\n",
      "\n",
      "        Best Accuracy Score 82.67%\n",
      "        Best parameters: {'max_depth': 4}\n",
      "        Accuracy Score (on outer test fold) 87.64%\n",
      "\n",
      "        Best Accuracy Score 82.42%\n",
      "        Best parameters: {'max_depth': 6}\n",
      "        Accuracy Score (on outer test fold) 83.15%\n",
      "\n",
      "        Best Accuracy Score 81.17%\n",
      "        Best parameters: {'max_depth': 5}\n",
      "        Accuracy Score (on outer test fold) 84.27%\n",
      "\n",
      "        Best Accuracy Score 82.54%\n",
      "        Best parameters: {'max_depth': 4}\n",
      "        Accuracy Score (on outer test fold) 78.65%\n",
      "\n",
      "        Best Accuracy Score 82.92%\n",
      "        Best parameters: {'max_depth': 3}\n",
      "        Accuracy Score (on outer test fold) 83.15%\n",
      "\n",
      "        Best Accuracy Score 82.80%\n",
      "        Best parameters: {'max_depth': 4}\n",
      "        Accuracy Score (on outer test fold) 76.40%\n",
      "\n",
      "        Best Accuracy Score 82.55%\n",
      "        Best parameters: {'max_depth': 3}\n",
      "        Accuracy Score (on outer test fold) 80.90%\n",
      "\n",
      "    Outer Loop:\n",
      "        Accuracy Score 81.93% +/- 3.06 \n",
      "\n",
      "Algorithm: K-Nearest Neighbors\n",
      "    Inner loop:\n",
      "\n",
      "        Best Accuracy Score 82.02%\n",
      "        Best parameters: {'n_neighbors': 6, 'p': 1}\n",
      "        Accuracy Score (on outer test fold) 82.22%\n",
      "\n",
      "        Best Accuracy Score 83.04%\n",
      "        Best parameters: {'n_neighbors': 10, 'p': 1}\n",
      "        Accuracy Score (on outer test fold) 82.02%\n",
      "\n",
      "        Best Accuracy Score 82.80%\n",
      "        Best parameters: {'n_neighbors': 8, 'p': 1}\n",
      "        Accuracy Score (on outer test fold) 84.27%\n",
      "\n",
      "        Best Accuracy Score 83.66%\n",
      "        Best parameters: {'n_neighbors': 10, 'p': 1}\n",
      "        Accuracy Score (on outer test fold) 83.15%\n",
      "\n",
      "        Best Accuracy Score 82.17%\n",
      "        Best parameters: {'n_neighbors': 6, 'p': 1}\n",
      "        Accuracy Score (on outer test fold) 83.15%\n",
      "\n",
      "        Best Accuracy Score 81.93%\n",
      "        Best parameters: {'n_neighbors': 8, 'p': 1}\n",
      "        Accuracy Score (on outer test fold) 83.15%\n",
      "\n",
      "        Best Accuracy Score 83.17%\n",
      "        Best parameters: {'n_neighbors': 9, 'p': 1}\n",
      "        Accuracy Score (on outer test fold) 82.02%\n",
      "\n",
      "        Best Accuracy Score 82.92%\n",
      "        Best parameters: {'n_neighbors': 4, 'p': 1}\n",
      "        Accuracy Score (on outer test fold) 80.90%\n",
      "\n",
      "        Best Accuracy Score 83.80%\n",
      "        Best parameters: {'n_neighbors': 8, 'p': 1}\n",
      "        Accuracy Score (on outer test fold) 78.65%\n",
      "\n",
      "        Best Accuracy Score 82.30%\n",
      "        Best parameters: {'n_neighbors': 10, 'p': 1}\n",
      "        Accuracy Score (on outer test fold) 78.65%\n",
      "\n",
      "    Outer Loop:\n",
      "        Accuracy Score 81.82% +/- 1.80 \n",
      "\n",
      "Algorithm: Logistic Regression\n",
      "    Inner loop:\n",
      "\n",
      "        Best Accuracy Score 82.77%\n",
      "        Best parameters: {'C': 1.0, 'penalty': 'l2'}\n",
      "        Accuracy Score (on outer test fold) 81.11%\n",
      "\n",
      "        Best Accuracy Score 82.80%\n",
      "        Best parameters: {'C': 100, 'penalty': 'l2'}\n",
      "        Accuracy Score (on outer test fold) 82.02%\n",
      "\n",
      "        Best Accuracy Score 81.81%\n",
      "        Best parameters: {'C': 0.1, 'penalty': 'l2'}\n",
      "        Accuracy Score (on outer test fold) 86.52%\n",
      "\n",
      "        Best Accuracy Score 83.04%\n",
      "        Best parameters: {'C': 10, 'penalty': 'l2'}\n",
      "        Accuracy Score (on outer test fold) 85.39%\n",
      "\n",
      "        Best Accuracy Score 81.80%\n",
      "        Best parameters: {'C': 10, 'penalty': 'l2'}\n",
      "        Accuracy Score (on outer test fold) 89.89%\n",
      "\n",
      "        Best Accuracy Score 82.17%\n",
      "        Best parameters: {'C': 10, 'penalty': 'l2'}\n",
      "        Accuracy Score (on outer test fold) 86.52%\n",
      "\n",
      "        Best Accuracy Score 83.54%\n",
      "        Best parameters: {'C': 10, 'penalty': 'l2'}\n",
      "        Accuracy Score (on outer test fold) 78.65%\n",
      "\n",
      "        Best Accuracy Score 82.92%\n",
      "        Best parameters: {'C': 1.0, 'penalty': 'l2'}\n",
      "        Accuracy Score (on outer test fold) 78.65%\n",
      "\n",
      "        Best Accuracy Score 83.42%\n",
      "        Best parameters: {'C': 1.0, 'penalty': 'l2'}\n",
      "        Accuracy Score (on outer test fold) 77.53%\n",
      "\n",
      "        Best Accuracy Score 82.92%\n",
      "        Best parameters: {'C': 1.0, 'penalty': 'l2'}\n",
      "        Accuracy Score (on outer test fold) 80.90%\n",
      "\n",
      "    Outer Loop:\n",
      "        Accuracy Score 82.72% +/- 3.92 \n",
      "\n",
      "Algorithm: Random Forest\n",
      "    Inner loop:\n",
      "\n",
      "        Best Accuracy Score 81.02%\n",
      "        Best parameters: {'n_estimators': 1000}\n",
      "        Accuracy Score (on outer test fold) 78.89%\n",
      "\n",
      "        Best Accuracy Score 80.68%\n",
      "        Best parameters: {'n_estimators': 1000}\n",
      "        Accuracy Score (on outer test fold) 84.27%\n",
      "\n",
      "        Best Accuracy Score 81.30%\n",
      "        Best parameters: {'n_estimators': 100}\n",
      "        Accuracy Score (on outer test fold) 77.53%\n",
      "\n",
      "        Best Accuracy Score 80.05%\n",
      "        Best parameters: {'n_estimators': 100}\n",
      "        Accuracy Score (on outer test fold) 84.27%\n",
      "\n",
      "        Best Accuracy Score 81.30%\n",
      "        Best parameters: {'n_estimators': 1000}\n",
      "        Accuracy Score (on outer test fold) 77.53%\n",
      "\n",
      "        Best Accuracy Score 79.80%\n",
      "        Best parameters: {'n_estimators': 100}\n",
      "        Accuracy Score (on outer test fold) 85.39%\n",
      "\n",
      "        Best Accuracy Score 80.43%\n",
      "        Best parameters: {'n_estimators': 1000}\n",
      "        Accuracy Score (on outer test fold) 78.65%\n",
      "\n",
      "        Best Accuracy Score 80.68%\n",
      "        Best parameters: {'n_estimators': 1000}\n",
      "        Accuracy Score (on outer test fold) 76.40%\n",
      "\n",
      "        Best Accuracy Score 82.18%\n",
      "        Best parameters: {'n_estimators': 100}\n",
      "        Accuracy Score (on outer test fold) 75.28%\n",
      "\n",
      "        Best Accuracy Score 80.93%\n",
      "        Best parameters: {'n_estimators': 10}\n",
      "        Accuracy Score (on outer test fold) 79.78%\n",
      "\n",
      "    Outer Loop:\n",
      "        Accuracy Score 79.80% +/- 3.40 \n",
      "\n",
      "Algorithm: Support Vector Machine\n",
      "    Inner loop:\n",
      "\n",
      "        Best Accuracy Score 84.02%\n",
      "        Best parameters: {'C': 1.0, 'gamma': 0.1, 'kernel': 'rbf'}\n",
      "        Accuracy Score (on outer test fold) 82.22%\n",
      "\n",
      "        Best Accuracy Score 83.42%\n",
      "        Best parameters: {'C': 1.0, 'gamma': 0.1, 'kernel': 'rbf'}\n",
      "        Accuracy Score (on outer test fold) 83.15%\n",
      "\n",
      "        Best Accuracy Score 82.93%\n",
      "        Best parameters: {'C': 1.0, 'gamma': 0.1, 'kernel': 'rbf'}\n",
      "        Accuracy Score (on outer test fold) 87.64%\n",
      "\n",
      "        Best Accuracy Score 83.67%\n",
      "        Best parameters: {'C': 1.0, 'gamma': 0.1, 'kernel': 'rbf'}\n",
      "        Accuracy Score (on outer test fold) 85.39%\n",
      "\n",
      "        Best Accuracy Score 82.92%\n",
      "        Best parameters: {'C': 10, 'gamma': 0.01, 'kernel': 'rbf'}\n",
      "        Accuracy Score (on outer test fold) 89.89%\n",
      "\n",
      "        Best Accuracy Score 83.29%\n",
      "        Best parameters: {'C': 10, 'gamma': 0.01, 'kernel': 'rbf'}\n",
      "        Accuracy Score (on outer test fold) 86.52%\n",
      "\n",
      "        Best Accuracy Score 83.92%\n",
      "        Best parameters: {'C': 1.0, 'gamma': 0.1, 'kernel': 'rbf'}\n",
      "        Accuracy Score (on outer test fold) 78.65%\n",
      "\n",
      "        Best Accuracy Score 83.42%\n",
      "        Best parameters: {'C': 1.0, 'gamma': 0.1, 'kernel': 'rbf'}\n",
      "        Accuracy Score (on outer test fold) 84.27%\n",
      "\n",
      "        Best Accuracy Score 84.17%\n",
      "        Best parameters: {'C': 1.0, 'gamma': 0.1, 'kernel': 'rbf'}\n",
      "        Accuracy Score (on outer test fold) 77.53%\n",
      "\n",
      "        Best Accuracy Score 83.54%\n",
      "        Best parameters: {'C': 1.0, 'gamma': 0.1, 'kernel': 'rbf'}\n",
      "        Accuracy Score (on outer test fold) 80.90%\n",
      "\n",
      "    Outer Loop:\n",
      "        Accuracy Score 83.62% +/- 3.73 \n",
      "\n"
     ]
    }
   ],
   "source": [
    "# Nested cross validation\n",
    "\n",
    "for name, est in sorted(gridcvs.items()):\n",
    "\n",
    "    print('Algorithm:', name)\n",
    "    print('    Inner loop:')\n",
    "    \n",
    "    outer_scores = []\n",
    "    outer_cv = StratifiedKFold(n_splits = 10, shuffle = True, random_state = 3)\n",
    "    \n",
    "    \n",
    "    for train_idx, valid_idx in outer_cv.split(X_train, y_train):\n",
    "        \n",
    "        # Inner loop\n",
    "        gridcvs[name].fit(X_train[train_idx], y_train[train_idx]) \n",
    "        print('\\n        Best Accuracy Score %.2f%%' % (gridcvs[name].best_score_ * 100))\n",
    "        print('        Best parameters:', gridcvs[name].best_params_)\n",
    "        \n",
    "        # Outer loop\n",
    "        outer_scores.append(gridcvs[name].best_estimator_.score(X_train[valid_idx], y_train[valid_idx]))\n",
    "        print('        Accuracy Score (on outer test fold) %.2f%%' % (outer_scores[-1] * 100))\n",
    "    \n",
    "    print('\\n    Outer Loop:')\n",
    "    print('        Accuracy Score %.2f%% +/- %.2f \\n' % (np.mean(outer_scores) * 100, np.std(outer_scores) * 100))"
   ]
  },
  {
   "cell_type": "markdown",
   "id": "2393acaa",
   "metadata": {},
   "source": [
    "---"
   ]
  },
  {
   "cell_type": "markdown",
   "id": "45c224ed",
   "metadata": {},
   "source": [
    "<a class=\"anchor\" id=\"section-six\"></a>\n",
    "## 6. Test Model\n",
    "\n",
    "* Apply the pipeline transformation on the test set.\n",
    "* Select and re-train the best model and its hyperparameters.\n",
    "* Use the final model to predict the likelihood of survival."
   ]
  },
  {
   "cell_type": "code",
   "execution_count": 41,
   "id": "f85d8eaf",
   "metadata": {},
   "outputs": [],
   "source": [
    "# Make a copy of the test_data\n",
    "\n",
    "test_data_copy = test_data.copy()"
   ]
  },
  {
   "cell_type": "code",
   "execution_count": 42,
   "id": "f521be29",
   "metadata": {},
   "outputs": [
    {
     "data": {
      "text/plain": [
       "array([[ 0.38541604, -0.49078316, -0.56097483, ...,  1.        ,\n",
       "         0.        ,  0.        ],\n",
       "       [ 1.32825184, -0.50747884,  0.05915988, ...,  0.        ,\n",
       "         1.        ,  0.        ],\n",
       "       [ 2.4596548 , -0.45336687, -0.56097483, ...,  1.        ,\n",
       "         0.        ,  0.        ],\n",
       "       ...,\n",
       "       [ 0.6871235 , -0.50244517, -0.56097483, ...,  1.        ,\n",
       "         0.        ,  0.        ],\n",
       "       [ 0.04599515, -0.48633742, -0.56097483, ...,  1.        ,\n",
       "         0.        ,  0.        ],\n",
       "       [-1.95281675, -0.19824428,  0.67929458, ...,  0.        ,\n",
       "         0.        ,  0.        ]])"
      ]
     },
     "execution_count": 42,
     "metadata": {},
     "output_type": "execute_result"
    }
   ],
   "source": [
    "# Transform the X_test data using the preprocessing pipeline\n",
    "\n",
    "X_test = preprocess_pipeline.transform(test_data_copy)\n",
    "\n",
    "X_test"
   ]
  },
  {
   "cell_type": "code",
   "execution_count": 43,
   "id": "7210d8ed",
   "metadata": {},
   "outputs": [
    {
     "name": "stdout",
     "output_type": "stream",
     "text": [
      "Fitting 5 folds for each of 25 candidates, totalling 125 fits\n",
      "Best CV accuracy: 83.50%\n",
      "Best parameters: {'C': 10, 'gamma': 0.01, 'kernel': 'rbf'}\n"
     ]
    }
   ],
   "source": [
    "# Get the best parameters using the best model\n",
    "\n",
    "model_select = GridSearchCV(estimator = sv,\n",
    "                            param_grid = param_grid_sv,\n",
    "                            scoring = 'accuracy',\n",
    "                            n_jobs = -1,\n",
    "                            cv = inner_cv,\n",
    "                            verbose = 1,\n",
    "                            refit = True)\n",
    "\n",
    "model_select.fit(X_train, y_train)\n",
    "print('Best CV accuracy: %.2f%%' % (model_select.best_score_ * 100))\n",
    "print('Best parameters:', model_select.best_params_)"
   ]
  },
  {
   "cell_type": "code",
   "execution_count": 44,
   "id": "1d28a941",
   "metadata": {},
   "outputs": [
    {
     "data": {
      "text/plain": [
       "array([0, 1, 0, 0, 1, 0, 1, 0, 1, 0, 0, 0, 1, 0, 1, 1, 0, 0, 1, 1, 0, 1,\n",
       "       1, 0, 1, 0, 1, 0, 0, 0, 0, 0, 1, 1, 0, 0, 1, 1, 0, 0, 0, 0, 0, 1,\n",
       "       1, 0, 0, 0, 1, 1, 0, 0, 1, 1, 0, 0, 0, 0, 0, 1, 0, 0, 0, 1, 1, 1,\n",
       "       1, 0, 0, 1, 1, 0, 1, 0, 1, 0, 0, 1, 0, 1, 1, 0, 0, 0, 0, 0, 1, 1,\n",
       "       1, 1, 1, 0, 1, 0, 0, 0, 1, 0, 1, 0, 1, 0, 0, 0, 1, 0, 0, 0, 0, 0,\n",
       "       0, 1, 1, 1, 1, 0, 0, 1, 0, 1, 1, 0, 1, 0, 0, 1, 0, 1, 0, 0, 0, 0,\n",
       "       0, 0, 0, 0, 0, 0, 1, 0, 0, 1, 0, 0, 0, 0, 0, 0, 0, 0, 1, 0, 0, 1,\n",
       "       0, 0, 1, 1, 0, 1, 1, 1, 1, 0, 0, 1, 0, 0, 1, 1, 0, 0, 0, 0, 0, 1,\n",
       "       1, 0, 1, 1, 0, 0, 1, 0, 1, 0, 1, 0, 0, 0, 0, 0, 1, 0, 1, 0, 1, 1,\n",
       "       0, 1, 1, 1, 0, 1, 0, 0, 1, 0, 1, 0, 0, 0, 0, 1, 0, 0, 1, 0, 1, 0,\n",
       "       1, 0, 1, 0, 1, 1, 0, 1, 0, 0, 0, 1, 0, 0, 0, 0, 0, 0, 1, 1, 1, 1,\n",
       "       0, 0, 1, 0, 1, 0, 1, 1, 1, 0, 0, 0, 0, 0, 0, 0, 1, 0, 0, 0, 1, 1,\n",
       "       0, 0, 0, 0, 1, 0, 0, 0, 1, 1, 0, 1, 0, 0, 0, 0, 1, 1, 1, 1, 1, 0,\n",
       "       0, 0, 0, 0, 0, 1, 0, 0, 0, 0, 1, 0, 0, 0, 0, 0, 0, 0, 1, 1, 0, 1,\n",
       "       0, 1, 0, 0, 0, 1, 1, 1, 0, 0, 0, 0, 0, 0, 0, 0, 1, 0, 1, 0, 0, 0,\n",
       "       1, 0, 0, 1, 0, 0, 0, 0, 0, 1, 0, 0, 0, 1, 1, 1, 0, 1, 0, 1, 1, 0,\n",
       "       0, 0, 1, 0, 1, 0, 0, 1, 0, 1, 1, 0, 1, 0, 0, 1, 1, 0, 0, 1, 0, 0,\n",
       "       1, 1, 1, 0, 0, 0, 0, 0, 1, 1, 0, 1, 0, 0, 0, 0, 0, 1, 1, 0, 0, 1,\n",
       "       0, 1, 0, 0, 1, 0, 1, 0, 0, 0, 0, 0, 1, 1, 1, 1, 1, 0, 1, 0, 0, 1])"
      ]
     },
     "execution_count": 44,
     "metadata": {},
     "output_type": "execute_result"
    }
   ],
   "source": [
    "# Get predictions\n",
    "\n",
    "pred = model_select.predict(X_test)\n",
    "\n",
    "pred"
   ]
  },
  {
   "cell_type": "code",
   "execution_count": 45,
   "id": "c22e055b",
   "metadata": {},
   "outputs": [
    {
     "data": {
      "text/html": [
       "<div>\n",
       "<style scoped>\n",
       "    .dataframe tbody tr th:only-of-type {\n",
       "        vertical-align: middle;\n",
       "    }\n",
       "\n",
       "    .dataframe tbody tr th {\n",
       "        vertical-align: top;\n",
       "    }\n",
       "\n",
       "    .dataframe thead th {\n",
       "        text-align: right;\n",
       "    }\n",
       "</style>\n",
       "<table border=\"1\" class=\"dataframe\">\n",
       "  <thead>\n",
       "    <tr style=\"text-align: right;\">\n",
       "      <th></th>\n",
       "      <th>PassengerId</th>\n",
       "      <th>Survived</th>\n",
       "    </tr>\n",
       "  </thead>\n",
       "  <tbody>\n",
       "    <tr>\n",
       "      <th>0</th>\n",
       "      <td>892</td>\n",
       "      <td>0</td>\n",
       "    </tr>\n",
       "    <tr>\n",
       "      <th>1</th>\n",
       "      <td>893</td>\n",
       "      <td>1</td>\n",
       "    </tr>\n",
       "    <tr>\n",
       "      <th>2</th>\n",
       "      <td>894</td>\n",
       "      <td>0</td>\n",
       "    </tr>\n",
       "    <tr>\n",
       "      <th>3</th>\n",
       "      <td>895</td>\n",
       "      <td>0</td>\n",
       "    </tr>\n",
       "    <tr>\n",
       "      <th>4</th>\n",
       "      <td>896</td>\n",
       "      <td>1</td>\n",
       "    </tr>\n",
       "    <tr>\n",
       "      <th>5</th>\n",
       "      <td>897</td>\n",
       "      <td>0</td>\n",
       "    </tr>\n",
       "    <tr>\n",
       "      <th>6</th>\n",
       "      <td>898</td>\n",
       "      <td>1</td>\n",
       "    </tr>\n",
       "    <tr>\n",
       "      <th>7</th>\n",
       "      <td>899</td>\n",
       "      <td>0</td>\n",
       "    </tr>\n",
       "    <tr>\n",
       "      <th>8</th>\n",
       "      <td>900</td>\n",
       "      <td>1</td>\n",
       "    </tr>\n",
       "    <tr>\n",
       "      <th>9</th>\n",
       "      <td>901</td>\n",
       "      <td>0</td>\n",
       "    </tr>\n",
       "    <tr>\n",
       "      <th>10</th>\n",
       "      <td>902</td>\n",
       "      <td>0</td>\n",
       "    </tr>\n",
       "    <tr>\n",
       "      <th>11</th>\n",
       "      <td>903</td>\n",
       "      <td>0</td>\n",
       "    </tr>\n",
       "    <tr>\n",
       "      <th>12</th>\n",
       "      <td>904</td>\n",
       "      <td>1</td>\n",
       "    </tr>\n",
       "    <tr>\n",
       "      <th>13</th>\n",
       "      <td>905</td>\n",
       "      <td>0</td>\n",
       "    </tr>\n",
       "    <tr>\n",
       "      <th>14</th>\n",
       "      <td>906</td>\n",
       "      <td>1</td>\n",
       "    </tr>\n",
       "  </tbody>\n",
       "</table>\n",
       "</div>"
      ],
      "text/plain": [
       "    PassengerId  Survived\n",
       "0           892         0\n",
       "1           893         1\n",
       "2           894         0\n",
       "3           895         0\n",
       "4           896         1\n",
       "5           897         0\n",
       "6           898         1\n",
       "7           899         0\n",
       "8           900         1\n",
       "9           901         0\n",
       "10          902         0\n",
       "11          903         0\n",
       "12          904         1\n",
       "13          905         0\n",
       "14          906         1"
      ]
     },
     "execution_count": 45,
     "metadata": {},
     "output_type": "execute_result"
    }
   ],
   "source": [
    "# Compile pred into a table to be used for submission\n",
    "\n",
    "submit_df = pd.DataFrame(columns = ['PassengerId', 'Survived'])\n",
    "submit_df['PassengerId'] = test_data['PassengerId']\n",
    "submit_df['Survived'] = pred\n",
    "\n",
    "# Save file \n",
    "submit_df.to_csv('submissions.csv', header = True, index = False)\n",
    "submit_df.head(15)"
   ]
  },
  {
   "cell_type": "markdown",
   "id": "d31de6b6",
   "metadata": {},
   "source": [
    "---"
   ]
  },
  {
   "cell_type": "markdown",
   "id": "56b81834",
   "metadata": {},
   "source": [
    "<a class=\"anchor\" id=\"section-seven\"></a>\n",
    "## 7. Conclusion"
   ]
  },
  {
   "cell_type": "markdown",
   "id": "b263fb4b",
   "metadata": {},
   "source": [
    "And that's a wrap! \n",
    "\n",
    "We focused on creating custom transformers and combining them with in-built Scikit-Learn transformers through a pipeline. Nested stratified kfold cross validation was also applied to five different classifiers. \n",
    "\n",
    "The best model is the Support Vector Classifier with a Radial Based Function (RBF) kernel, regularization parameter of 10 and kernel coefficient of 0.01. This achieved an accuracy of 83.50% on the training set."
   ]
  },
  {
   "cell_type": "markdown",
   "id": "73891e33",
   "metadata": {},
   "source": [
    "If you enjoyed this notebook, kindly drop an upvote or a follow!"
   ]
  },
  {
   "cell_type": "markdown",
   "id": "cedba5fb",
   "metadata": {},
   "source": [
    "### Useful Resources:\n",
    "\n",
    "* [I apply Nested Cross Validation to a Regression Problem](https://github.com/justinsiowqi/Beijing-Air-Quality/blob/main/Beijing%20Air%20Quality.ipynb)\n",
    "* [ML Data Pipelines with Custom Transformers in Python](https://towardsdatascience.com/custom-transformers-and-ml-data-pipelines-with-python-20ea2a7adb65)\n",
    "* [Nested Cross Validation](https://github.com/rasbt/stat451-machine-learning-fs20/blob/master/L11/code/11-eval4-algo__nested-cv_verbose1.ipynb)\n",
    "* [Advaned Pipelines with Scikit-Learn](https://towardsdatascience.com/advanced-pipelines-with-scikit-learn-4204bb71019b)"
   ]
  }
 ],
 "metadata": {
  "kernelspec": {
   "display_name": "Python 3.9 (tensorflow)",
   "language": "python",
   "name": "tensorflow"
  },
  "language_info": {
   "codemirror_mode": {
    "name": "ipython",
    "version": 3
   },
   "file_extension": ".py",
   "mimetype": "text/x-python",
   "name": "python",
   "nbconvert_exporter": "python",
   "pygments_lexer": "ipython3",
   "version": "3.9.15"
  }
 },
 "nbformat": 4,
 "nbformat_minor": 5
}
